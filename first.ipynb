{
 "cells": [
  {
   "cell_type": "markdown",
   "metadata": {},
   "source": [
    "# compressive strength model using ANN"
   ]
  },
  {
   "cell_type": "code",
   "execution_count": 2,
   "metadata": {},
   "outputs": [],
   "source": [
    "import numpy as np\n",
    "import pandas as pd\n"
   ]
  },
  {
   "cell_type": "markdown",
   "metadata": {},
   "source": [
    "Loading the dataset"
   ]
  },
  {
   "cell_type": "code",
   "execution_count": 3,
   "metadata": {},
   "outputs": [
    {
     "name": "stdout",
     "output_type": "stream",
     "text": [
      "1.26.4 2.2.3\n"
     ]
    }
   ],
   "source": [
    "import numpy as np\n",
    "import pandas as pd\n",
    "print(np.__version__, pd.__version__)\n"
   ]
  },
  {
   "cell_type": "code",
   "execution_count": 5,
   "metadata": {},
   "outputs": [
    {
     "name": "stdout",
     "output_type": "stream",
     "text": [
      "   Sr.no  Cement Grade  Cement content  Water  Water/Binder  Fine  Aggregate  \\\n",
      "0      1          52.0           335.0  166.3      0.437632            768.1   \n",
      "1      2          52.4           300.0  146.2      0.423768            719.1   \n",
      "2      3          52.0           290.0  146.8      0.438209            748.5   \n",
      "3      4          52.4           290.0  146.2      0.423768            719.1   \n",
      "4      5          52.0           300.0  146.8      0.438209            748.5   \n",
      "\n",
      "   Course Aggregate  Fly Ash  Silica fume  Blast furnace slag  Plasticizer  \\\n",
      "0             945.6     45.0          0.0                 0.0          2.4   \n",
      "1            1004.7     45.0          0.0                 0.0          3.0   \n",
      "2            1004.7     45.0          0.0                 0.0          2.8   \n",
      "3            1004.7     55.0          0.0                 0.0          2.8   \n",
      "4            1004.7     35.0          0.0                 0.0          2.8   \n",
      "\n",
      "   Super Plastercizer  Compressive strength    Author  \\\n",
      "0                 5.5                  73.0  Wu Zheng   \n",
      "1                 8.0                  72.9  Wu Zheng   \n",
      "2                 8.0                  71.0  Wu Zheng   \n",
      "3                 8.0                  71.0  Wu Zheng   \n",
      "4                 8.0                  70.8  Wu Zheng   \n",
      "\n",
      "                                     DOI link  \n",
      "0  https://doi.org/10.1016/j.jobe.2023.107396  \n",
      "1  https://doi.org/10.1016/j.jobe.2023.107397  \n",
      "2  https://doi.org/10.1016/j.jobe.2023.107398  \n",
      "3  https://doi.org/10.1016/j.jobe.2023.107399  \n",
      "4  https://doi.org/10.1016/j.jobe.2023.107400  \n"
     ]
    }
   ],
   "source": [
    "import openpyxl\n",
    "import pandas as pd\n",
    "\n",
    "# Test reading an Excel file\n",
    "dataset = pd.read_excel(\"D:/machine learning/ann model/DATA3.xlsx\")\n",
    "print(dataset.head())\n"
   ]
  },
  {
   "cell_type": "code",
   "execution_count": 6,
   "metadata": {},
   "outputs": [
    {
     "name": "stdout",
     "output_type": "stream",
     "text": [
      "Columns with NaN values: ['Cement Grade', 'Water', 'Author', 'DOI link']\n"
     ]
    }
   ],
   "source": [
    "import pandas as pd\n",
    "\n",
    "nan_columns = dataset.columns[dataset.isna().any()].tolist()\n",
    "print(\"Columns with NaN values:\", nan_columns)\n"
   ]
  },
  {
   "cell_type": "markdown",
   "metadata": {},
   "source": [
    "separation of dataset as X and y"
   ]
  },
  {
   "cell_type": "code",
   "execution_count": 7,
   "metadata": {},
   "outputs": [
    {
     "name": "stdout",
     "output_type": "stream",
     "text": [
      "Index(['Sr.no', 'Cement Grade', 'Cement content', 'Water', 'Water/Binder',\n",
      "       'Fine  Aggregate', 'Course Aggregate', 'Fly Ash', 'Silica fume',\n",
      "       'Blast furnace slag', 'Plasticizer', 'Super Plastercizer',\n",
      "       'Compressive strength', 'Author', 'DOI link'],\n",
      "      dtype='object')\n"
     ]
    },
    {
     "data": {
      "text/html": [
       "<div>\n",
       "<style scoped>\n",
       "    .dataframe tbody tr th:only-of-type {\n",
       "        vertical-align: middle;\n",
       "    }\n",
       "\n",
       "    .dataframe tbody tr th {\n",
       "        vertical-align: top;\n",
       "    }\n",
       "\n",
       "    .dataframe thead th {\n",
       "        text-align: right;\n",
       "    }\n",
       "</style>\n",
       "<table border=\"1\" class=\"dataframe\">\n",
       "  <thead>\n",
       "    <tr style=\"text-align: right;\">\n",
       "      <th></th>\n",
       "      <th>Cement content</th>\n",
       "      <th>Water/Binder</th>\n",
       "      <th>Fine  Aggregate</th>\n",
       "      <th>Course Aggregate</th>\n",
       "      <th>Fly Ash</th>\n",
       "      <th>Silica fume</th>\n",
       "      <th>Blast furnace slag</th>\n",
       "      <th>Plasticizer</th>\n",
       "      <th>Super Plastercizer</th>\n",
       "    </tr>\n",
       "  </thead>\n",
       "  <tbody>\n",
       "    <tr>\n",
       "      <th>0</th>\n",
       "      <td>335.0</td>\n",
       "      <td>0.437632</td>\n",
       "      <td>768.1</td>\n",
       "      <td>945.6</td>\n",
       "      <td>45.0</td>\n",
       "      <td>0.0</td>\n",
       "      <td>0.0</td>\n",
       "      <td>2.4</td>\n",
       "      <td>5.5</td>\n",
       "    </tr>\n",
       "    <tr>\n",
       "      <th>1</th>\n",
       "      <td>300.0</td>\n",
       "      <td>0.423768</td>\n",
       "      <td>719.1</td>\n",
       "      <td>1004.7</td>\n",
       "      <td>45.0</td>\n",
       "      <td>0.0</td>\n",
       "      <td>0.0</td>\n",
       "      <td>3.0</td>\n",
       "      <td>8.0</td>\n",
       "    </tr>\n",
       "    <tr>\n",
       "      <th>2</th>\n",
       "      <td>290.0</td>\n",
       "      <td>0.438209</td>\n",
       "      <td>748.5</td>\n",
       "      <td>1004.7</td>\n",
       "      <td>45.0</td>\n",
       "      <td>0.0</td>\n",
       "      <td>0.0</td>\n",
       "      <td>2.8</td>\n",
       "      <td>8.0</td>\n",
       "    </tr>\n",
       "    <tr>\n",
       "      <th>3</th>\n",
       "      <td>290.0</td>\n",
       "      <td>0.423768</td>\n",
       "      <td>719.1</td>\n",
       "      <td>1004.7</td>\n",
       "      <td>55.0</td>\n",
       "      <td>0.0</td>\n",
       "      <td>0.0</td>\n",
       "      <td>2.8</td>\n",
       "      <td>8.0</td>\n",
       "    </tr>\n",
       "    <tr>\n",
       "      <th>4</th>\n",
       "      <td>300.0</td>\n",
       "      <td>0.438209</td>\n",
       "      <td>748.5</td>\n",
       "      <td>1004.7</td>\n",
       "      <td>35.0</td>\n",
       "      <td>0.0</td>\n",
       "      <td>0.0</td>\n",
       "      <td>2.8</td>\n",
       "      <td>8.0</td>\n",
       "    </tr>\n",
       "    <tr>\n",
       "      <th>...</th>\n",
       "      <td>...</td>\n",
       "      <td>...</td>\n",
       "      <td>...</td>\n",
       "      <td>...</td>\n",
       "      <td>...</td>\n",
       "      <td>...</td>\n",
       "      <td>...</td>\n",
       "      <td>...</td>\n",
       "      <td>...</td>\n",
       "    </tr>\n",
       "    <tr>\n",
       "      <th>3200</th>\n",
       "      <td>360.0</td>\n",
       "      <td>0.500000</td>\n",
       "      <td>745.0</td>\n",
       "      <td>950.0</td>\n",
       "      <td>0.0</td>\n",
       "      <td>0.0</td>\n",
       "      <td>0.0</td>\n",
       "      <td>0.0</td>\n",
       "      <td>0.5</td>\n",
       "    </tr>\n",
       "    <tr>\n",
       "      <th>3201</th>\n",
       "      <td>360.0</td>\n",
       "      <td>0.500000</td>\n",
       "      <td>745.0</td>\n",
       "      <td>950.0</td>\n",
       "      <td>0.0</td>\n",
       "      <td>0.0</td>\n",
       "      <td>0.0</td>\n",
       "      <td>0.0</td>\n",
       "      <td>1.0</td>\n",
       "    </tr>\n",
       "    <tr>\n",
       "      <th>3202</th>\n",
       "      <td>320.0</td>\n",
       "      <td>0.562500</td>\n",
       "      <td>731.0</td>\n",
       "      <td>950.0</td>\n",
       "      <td>0.0</td>\n",
       "      <td>0.0</td>\n",
       "      <td>0.0</td>\n",
       "      <td>0.0</td>\n",
       "      <td>0.0</td>\n",
       "    </tr>\n",
       "    <tr>\n",
       "      <th>3203</th>\n",
       "      <td>320.0</td>\n",
       "      <td>0.562500</td>\n",
       "      <td>731.0</td>\n",
       "      <td>950.0</td>\n",
       "      <td>0.0</td>\n",
       "      <td>0.0</td>\n",
       "      <td>0.0</td>\n",
       "      <td>0.0</td>\n",
       "      <td>0.5</td>\n",
       "    </tr>\n",
       "    <tr>\n",
       "      <th>3204</th>\n",
       "      <td>320.0</td>\n",
       "      <td>0.562500</td>\n",
       "      <td>731.0</td>\n",
       "      <td>950.0</td>\n",
       "      <td>0.0</td>\n",
       "      <td>0.0</td>\n",
       "      <td>0.0</td>\n",
       "      <td>0.0</td>\n",
       "      <td>1.0</td>\n",
       "    </tr>\n",
       "  </tbody>\n",
       "</table>\n",
       "<p>3205 rows × 9 columns</p>\n",
       "</div>"
      ],
      "text/plain": [
       "      Cement content  Water/Binder  Fine  Aggregate  Course Aggregate  \\\n",
       "0              335.0      0.437632            768.1             945.6   \n",
       "1              300.0      0.423768            719.1            1004.7   \n",
       "2              290.0      0.438209            748.5            1004.7   \n",
       "3              290.0      0.423768            719.1            1004.7   \n",
       "4              300.0      0.438209            748.5            1004.7   \n",
       "...              ...           ...              ...               ...   \n",
       "3200           360.0      0.500000            745.0             950.0   \n",
       "3201           360.0      0.500000            745.0             950.0   \n",
       "3202           320.0      0.562500            731.0             950.0   \n",
       "3203           320.0      0.562500            731.0             950.0   \n",
       "3204           320.0      0.562500            731.0             950.0   \n",
       "\n",
       "      Fly Ash  Silica fume  Blast furnace slag  Plasticizer  \\\n",
       "0        45.0          0.0                 0.0          2.4   \n",
       "1        45.0          0.0                 0.0          3.0   \n",
       "2        45.0          0.0                 0.0          2.8   \n",
       "3        55.0          0.0                 0.0          2.8   \n",
       "4        35.0          0.0                 0.0          2.8   \n",
       "...       ...          ...                 ...          ...   \n",
       "3200      0.0          0.0                 0.0          0.0   \n",
       "3201      0.0          0.0                 0.0          0.0   \n",
       "3202      0.0          0.0                 0.0          0.0   \n",
       "3203      0.0          0.0                 0.0          0.0   \n",
       "3204      0.0          0.0                 0.0          0.0   \n",
       "\n",
       "      Super Plastercizer  \n",
       "0                    5.5  \n",
       "1                    8.0  \n",
       "2                    8.0  \n",
       "3                    8.0  \n",
       "4                    8.0  \n",
       "...                  ...  \n",
       "3200                 0.5  \n",
       "3201                 1.0  \n",
       "3202                 0.0  \n",
       "3203                 0.5  \n",
       "3204                 1.0  \n",
       "\n",
       "[3205 rows x 9 columns]"
      ]
     },
     "execution_count": 7,
     "metadata": {},
     "output_type": "execute_result"
    }
   ],
   "source": [
    "print(dataset.columns)\n",
    "y=dataset['Compressive strength']\n",
    "X=dataset.drop(['Compressive strength','Author','DOI link','Sr.no','Cement Grade','Water'], axis=1)\n",
    "# X = np.nan_to_num(X, nan=0.0)  # Replace NaN with \n",
    "X"
   ]
  },
  {
   "cell_type": "markdown",
   "metadata": {},
   "source": [
    "Splitting the data for testing and training"
   ]
  },
  {
   "cell_type": "code",
   "execution_count": 8,
   "metadata": {},
   "outputs": [
    {
     "name": "stdout",
     "output_type": "stream",
     "text": [
      "1.6.1\n",
      "(2564, 9) (641, 9) (2564,) (641,)\n"
     ]
    }
   ],
   "source": [
    "import sklearn as sk\n",
    "print(sk.__version__)\n",
    "from sklearn.model_selection import train_test_split\n",
    "X_train, X_test, y_train, y_test = train_test_split(X, y, test_size=0.2, random_state=100)\n",
    "print(X_train.shape, X_test.shape, y_train.shape, y_test.shape)"
   ]
  },
  {
   "cell_type": "markdown",
   "metadata": {},
   "source": [
    "Standardizing The dataset"
   ]
  },
  {
   "cell_type": "code",
   "execution_count": 9,
   "metadata": {},
   "outputs": [],
   "source": [
    "from sklearn.preprocessing import MinMaxScaler\n",
    "scaler=MinMaxScaler()\n",
    "X_train=scaler.fit_transform(X_train)\n",
    "X_test=scaler.transform(X_test)"
   ]
  },
  {
   "cell_type": "code",
   "execution_count": 10,
   "metadata": {},
   "outputs": [],
   "source": [
    "import tensorflow as tf\n",
    "from tensorflow import keras\n",
    "from keras import Sequential\n",
    "from keras.layers import Dense"
   ]
  },
  {
   "cell_type": "markdown",
   "metadata": {},
   "source": [
    "Creating the architecture of our Deep learning model"
   ]
  },
  {
   "cell_type": "code",
   "execution_count": null,
   "metadata": {},
   "outputs": [],
   "source": [
    "# from keras.initializers import HeNormal\n",
    "\n",
    "# model = Sequential()\n",
    "\n",
    "# model.add(Dense(1000, activation='relu', kernel_initializer=HeNormal(), input_shape=(X_train.shape[1],)))\n",
    "# model.add(Dense(1000, activation='relu', kernel_initializer=HeNormal()))\n",
    "# model.add(Dense(1000, activation='relu', kernel_initializer=HeNormal()))\n",
    "# # model.add(Dense(1000, activation='relu', kernel_initializer=HeNormal()))\n",
    "# model.add(Dense(700, activation='relu', kernel_initializer=HeNormal()))\n",
    "# model.add(Dense(700, activation='relu', kernel_initializer=HeNormal()))\n",
    "# model.add(Dense(700, activation='relu', kernel_initializer=HeNormal()))\n",
    "# model.add(Dense(400, activation='relu', kernel_initializer=HeNormal()))\n",
    "# model.add(Dense(400, activation='relu', kernel_initializer=HeNormal()))\n",
    "# model.add(Dense(400, activation='relu', kernel_initializer=HeNormal()))\n",
    "# model.add(Dense(256, activation='relu', kernel_initializer=HeNormal()))\n",
    "# model.add(Dense(256, activation='relu', kernel_initializer=HeNormal()))\n",
    "# model.add(Dense(256, activation='relu', kernel_initializer=HeNormal()))\n",
    "# model.add(Dense(128, activation='relu', kernel_initializer=HeNormal()))\n",
    "# model.add(Dense(32, activation='relu', kernel_initializer=HeNormal()))\n",
    "# model.add(Dense(10, activation='relu', kernel_initializer=HeNormal()))\n",
    "# model.add(Dense(1, activation='linear'))"
   ]
  },
  {
   "cell_type": "code",
   "execution_count": 11,
   "metadata": {},
   "outputs": [],
   "source": [
    "model=Sequential()\n",
    "\n",
    "model.add(Dense(1000, activation='leaky_relu', input_shape=(X_train.shape[1],)))\n",
    "model.add(Dense(1792, activation='leaky_relu'))  # units_1\n",
    "model.add(Dense(1664, activation='leaky_relu'))  # units_2\n",
    "model.add(Dense(512, activation='leaky_relu'))   # units_3\n",
    "model.add(Dense(1152, activation='leaky_relu'))  # units_4\n",
    "model.add(Dense(384, activation='leaky_relu'))   # units_5\n",
    "model.add(Dense(128, activation='leaky_relu'))   # units_6\n",
    "model.add(Dense(1664, activation='leaky_relu'))  # units_7\n",
    "model.add(Dense(1408, activation='leaky_relu'))  # units_8\n",
    "model.add(Dense(384, activation='leaky_relu'))   # units_9\n",
    "model.add(Dense(896, activation='leaky_relu'))   # units_10\n",
    "model.add(Dense(1152, activation='leaky_relu'))  # units_11\n",
    "model.add(Dense(256, activation='leaky_relu'))   # units_12\n",
    "\n",
    "# 🔹 Output Layer for Regression\n",
    "model.add(Dense(1, activation='linear'))\n"
   ]
  },
  {
   "cell_type": "code",
   "execution_count": 12,
   "metadata": {},
   "outputs": [
    {
     "name": "stdout",
     "output_type": "stream",
     "text": [
      "Model: \"sequential\"\n",
      "_________________________________________________________________\n",
      " Layer (type)                Output Shape              Param #   \n",
      "=================================================================\n",
      " dense (Dense)               (None, 1000)              10000     \n",
      "                                                                 \n",
      " dense_1 (Dense)             (None, 1792)              1793792   \n",
      "                                                                 \n",
      " dense_2 (Dense)             (None, 1664)              2983552   \n",
      "                                                                 \n",
      " dense_3 (Dense)             (None, 512)               852480    \n",
      "                                                                 \n",
      " dense_4 (Dense)             (None, 1152)              590976    \n",
      "                                                                 \n",
      " dense_5 (Dense)             (None, 384)               442752    \n",
      "                                                                 \n",
      " dense_6 (Dense)             (None, 128)               49280     \n",
      "                                                                 \n",
      " dense_7 (Dense)             (None, 1664)              214656    \n",
      "                                                                 \n",
      " dense_8 (Dense)             (None, 1408)              2344320   \n",
      "                                                                 \n",
      " dense_9 (Dense)             (None, 384)               541056    \n",
      "                                                                 \n",
      " dense_10 (Dense)            (None, 896)               344960    \n",
      "                                                                 \n",
      " dense_11 (Dense)            (None, 1152)              1033344   \n",
      "                                                                 \n",
      " dense_12 (Dense)            (None, 256)               295168    \n",
      "                                                                 \n",
      " dense_13 (Dense)            (None, 1)                 257       \n",
      "                                                                 \n",
      "=================================================================\n",
      "Total params: 11,496,593\n",
      "Trainable params: 11,496,593\n",
      "Non-trainable params: 0\n",
      "_________________________________________________________________\n"
     ]
    }
   ],
   "source": [
    "model.summary()"
   ]
  },
  {
   "cell_type": "code",
   "execution_count": 13,
   "metadata": {},
   "outputs": [
    {
     "name": "stdout",
     "output_type": "stream",
     "text": [
      "Epoch 1/10\n",
      "65/65 [==============================] - 6s 24ms/step - loss: 740.9813 - val_loss: 178.1904\n",
      "Epoch 2/10\n",
      "65/65 [==============================] - 1s 17ms/step - loss: 155.8173 - val_loss: 163.7318\n",
      "Epoch 3/10\n",
      "65/65 [==============================] - 1s 18ms/step - loss: 142.2684 - val_loss: 181.4679\n",
      "Epoch 4/10\n",
      "65/65 [==============================] - 1s 18ms/step - loss: 141.6835 - val_loss: 144.2839\n",
      "Epoch 5/10\n",
      "65/65 [==============================] - 1s 18ms/step - loss: 137.7567 - val_loss: 145.2798\n",
      "Epoch 6/10\n",
      "65/65 [==============================] - 1s 18ms/step - loss: 129.8672 - val_loss: 145.8933\n",
      "Epoch 7/10\n",
      "65/65 [==============================] - 1s 18ms/step - loss: 136.1287 - val_loss: 158.2616\n",
      "Epoch 8/10\n",
      "65/65 [==============================] - 1s 19ms/step - loss: 125.7056 - val_loss: 131.9946\n",
      "Epoch 9/10\n",
      "65/65 [==============================] - 1s 17ms/step - loss: 121.8801 - val_loss: 144.1561\n",
      "Epoch 10/10\n",
      "65/65 [==============================] - 1s 16ms/step - loss: 126.7576 - val_loss: 173.4750\n"
     ]
    }
   ],
   "source": [
    "from tensorflow.keras.optimizers import Adam\n",
    "\n",
    "optimizer = Adam(learning_rate=0.0001)  # Try 0.0001 or even smaller\n",
    "model.compile(optimizer=optimizer, loss='mse')\n",
    "history=model.fit(X_train, y_train, epochs=10, validation_split=0.2)"
   ]
  },
  {
   "cell_type": "code",
   "execution_count": 14,
   "metadata": {},
   "outputs": [
    {
     "name": "stdout",
     "output_type": "stream",
     "text": [
      "21/21 [==============================] - 1s 15ms/step\n"
     ]
    }
   ],
   "source": [
    "y_pred=model.predict(X_test)"
   ]
  },
  {
   "cell_type": "code",
   "execution_count": 15,
   "metadata": {},
   "outputs": [
    {
     "data": {
      "text/plain": [
       "0.4391443732125442"
      ]
     },
     "execution_count": 15,
     "metadata": {},
     "output_type": "execute_result"
    }
   ],
   "source": [
    "from sklearn.metrics import r2_score\n",
    "r2_score(y_test, y_pred)"
   ]
  },
  {
   "cell_type": "code",
   "execution_count": 17,
   "metadata": {},
   "outputs": [
    {
     "data": {
      "text/plain": [
       "Text(0, 0.5, 'Loss')"
      ]
     },
     "execution_count": 17,
     "metadata": {},
     "output_type": "execute_result"
    },
    {
     "data": {
      "image/png": "[encoded data removed]",
      "text/plain": [
       "<Figure size 640x480 with 1 Axes>"
      ]
     },
     "metadata": {},
     "output_type": "display_data"
    }
   ],
   "source": [
    "import matplotlib.pyplot as plt\n",
    "plt.plot(history.history['loss'])\n",
    "plt.plot(history.history['val_loss'])\n",
    "plt.title('Model Loss')\n",
    "plt.ylabel('Loss')\n"
   ]
  },
  {
   "cell_type": "code",
   "execution_count": 18,
   "metadata": {},
   "outputs": [
    {
     "name": "stdout",
     "output_type": "stream",
     "text": [
      "Num GPUs Available: 1\n"
     ]
    }
   ],
   "source": [
    "import tensorflow as tf\n",
    "\n",
    "print(\"Num GPUs Available:\", len(tf.config.list_physical_devices('GPU')))\n",
    "\n"
   ]
  },
  {
   "cell_type": "code",
   "execution_count": null,
   "metadata": {},
   "outputs": [],
   "source": []
  }
 ],
 "metadata": {
  "kernelspec": {
   "display_name": "py310",
   "language": "python",
   "name": "python3"
  },
  "language_info": {
   "codemirror_mode": {
    "name": "ipython",
    "version": 3
   },
   "file_extension": ".py",
   "mimetype": "text/x-python",
   "name": "python",
   "nbconvert_exporter": "python",
   "pygments_lexer": "ipython3",
   "version": "3.10.16"
  }
 },
 "nbformat": 4,
 "nbformat_minor": 2
}
